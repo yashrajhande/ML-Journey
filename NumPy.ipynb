{
 "cells": [
  {
   "cell_type": "markdown",
   "id": "dc1960e2-7ede-435a-b7f3-979b11ab4277",
   "metadata": {},
   "source": [
    "# Understanding Numberical Operations with numpy"
   ]
  },
  {
   "cell_type": "markdown",
   "id": "3dd05cf1-2b35-496a-bc19-5630cfcf3ffd",
   "metadata": {},
   "source": [
    "## 2D Array in Numpy"
   ]
  },
  {
   "cell_type": "code",
   "execution_count": 2,
   "id": "71ec87b9-89b1-4355-9560-7d103787d87f",
   "metadata": {},
   "outputs": [],
   "source": [
    "import numpy as np;"
   ]
  },
  {
   "cell_type": "code",
   "execution_count": 4,
   "id": "93c38540-268c-4f11-831e-cb1539990f6d",
   "metadata": {},
   "outputs": [],
   "source": [
    "x=[[10,20,30],[40,50,60],[70,80,90]]"
   ]
  },
  {
   "cell_type": "code",
   "execution_count": 6,
   "id": "d7e85b33-bf9e-477b-8e8e-b3b2f7f0c38b",
   "metadata": {},
   "outputs": [
    {
     "data": {
      "text/plain": [
       "[[10, 20, 30], [40, 50, 60], [70, 80, 90]]"
      ]
     },
     "execution_count": 6,
     "metadata": {},
     "output_type": "execute_result"
    }
   ],
   "source": [
    "x"
   ]
  },
  {
   "cell_type": "markdown",
   "id": "81132968-4f06-44ba-9b32-aa627aafaa30",
   "metadata": {},
   "source": [
    "Another way to create same nested list :"
   ]
  },
  {
   "cell_type": "code",
   "execution_count": 8,
   "id": "407ea443-ae26-4678-bc66-42e5de048961",
   "metadata": {},
   "outputs": [],
   "source": [
    "y=[list(range(10,31,10)), list(range(40,61,10)), list(range(70,91,10))]"
   ]
  },
  {
   "cell_type": "code",
   "execution_count": 10,
   "id": "92712618-b7aa-4ebd-bfec-5dc1fa065a22",
   "metadata": {},
   "outputs": [
    {
     "data": {
      "text/plain": [
       "[[10, 20, 30], [40, 50, 60], [70, 80, 90]]"
      ]
     },
     "execution_count": 10,
     "metadata": {},
     "output_type": "execute_result"
    }
   ],
   "source": [
    "y"
   ]
  },
  {
   "cell_type": "markdown",
   "id": "87e001ec-bfe5-4c81-a762-d2ea78c66390",
   "metadata": {},
   "source": [
    "### covert into numpy array:"
   ]
  },
  {
   "cell_type": "code",
   "execution_count": 16,
   "id": "06e5a3ce-9b1e-4b7a-9e44-267014f8643b",
   "metadata": {},
   "outputs": [
    {
     "data": {
      "text/plain": [
       "array([[10, 20, 30],\n",
       "       [40, 50, 60],\n",
       "       [70, 80, 90]])"
      ]
     },
     "execution_count": 16,
     "metadata": {},
     "output_type": "execute_result"
    }
   ],
   "source": [
    "xnp= np.array(x)\n",
    "xnp"
   ]
  },
  {
   "cell_type": "markdown",
   "id": "29ea419f-217d-4b5e-806e-e8ff720580c0",
   "metadata": {},
   "source": [
    "## Indexing"
   ]
  },
  {
   "cell_type": "markdown",
   "id": "f881bd8f-2adb-4905-8511-83d21cf7f31c",
   "metadata": {},
   "source": [
    "Normal Array :"
   ]
  },
  {
   "cell_type": "code",
   "execution_count": 20,
   "id": "19fac5e2-1469-4555-bc81-c9ade2b8f014",
   "metadata": {},
   "outputs": [
    {
     "data": {
      "text/plain": [
       "[10, 20, 30]"
      ]
     },
     "execution_count": 20,
     "metadata": {},
     "output_type": "execute_result"
    }
   ],
   "source": [
    "x[0]"
   ]
  },
  {
   "cell_type": "code",
   "execution_count": 22,
   "id": "99d3406a-5291-4828-86ea-f00ced5c1f31",
   "metadata": {},
   "outputs": [
    {
     "data": {
      "text/plain": [
       "20"
      ]
     },
     "execution_count": 22,
     "metadata": {},
     "output_type": "execute_result"
    }
   ],
   "source": [
    "x[0][1]"
   ]
  },
  {
   "cell_type": "code",
   "execution_count": 24,
   "id": "e1ee1cec-f05f-44bf-b6fb-301e8a05d08b",
   "metadata": {},
   "outputs": [
    {
     "data": {
      "text/plain": [
       "30"
      ]
     },
     "execution_count": 24,
     "metadata": {},
     "output_type": "execute_result"
    }
   ],
   "source": [
    "x[0][-1]"
   ]
  },
  {
   "cell_type": "markdown",
   "id": "bf46f3a7-b9b5-4a40-85d0-e24c87eb5fcf",
   "metadata": {},
   "source": [
    "NumPy Array :"
   ]
  },
  {
   "cell_type": "code",
   "execution_count": 28,
   "id": "78d41fa6-46a1-404f-9f9d-693213df4089",
   "metadata": {},
   "outputs": [
    {
     "data": {
      "text/plain": [
       "20"
      ]
     },
     "execution_count": 28,
     "metadata": {},
     "output_type": "execute_result"
    }
   ],
   "source": [
    "xnp[0][1]"
   ]
  },
  {
   "cell_type": "markdown",
   "id": "0fa40cdf-64cf-4aff-9a87-edc274beb3d1",
   "metadata": {},
   "source": [
    "We can do it same like normal array like above example ,\n",
    "But below is approch in numpy"
   ]
  },
  {
   "cell_type": "code",
   "execution_count": 34,
   "id": "b1cfe1dc-7d1d-4dfe-b242-d3660b25490f",
   "metadata": {},
   "outputs": [
    {
     "data": {
      "text/plain": [
       "20"
      ]
     },
     "execution_count": 34,
     "metadata": {},
     "output_type": "execute_result"
    }
   ],
   "source": [
    "xnp[0,1]"
   ]
  },
  {
   "cell_type": "code",
   "execution_count": 36,
   "id": "5823b46f-bad9-4e8d-a5ae-157eba7bb800",
   "metadata": {},
   "outputs": [
    {
     "data": {
      "text/plain": [
       "30"
      ]
     },
     "execution_count": 36,
     "metadata": {},
     "output_type": "execute_result"
    }
   ],
   "source": [
    "xnp[0,-1]"
   ]
  },
  {
   "cell_type": "markdown",
   "id": "2c3e5d16-72a5-4985-9037-3354fbe0defa",
   "metadata": {},
   "source": [
    "## Slicing"
   ]
  },
  {
   "cell_type": "code",
   "execution_count": 41,
   "id": "52b78b8f-3656-431c-94cc-f041c557fbb5",
   "metadata": {},
   "outputs": [
    {
     "data": {
      "text/plain": [
       "[[10, 20, 30], [40, 50, 60]]"
      ]
     },
     "execution_count": 41,
     "metadata": {},
     "output_type": "execute_result"
    }
   ],
   "source": [
    "x[0:2]"
   ]
  },
  {
   "cell_type": "code",
   "execution_count": 43,
   "id": "ce943527-7f8c-4636-951b-f0a9b1693801",
   "metadata": {},
   "outputs": [
    {
     "data": {
      "text/plain": [
       "array([[10, 20, 30],\n",
       "       [40, 50, 60],\n",
       "       [70, 80, 90]])"
      ]
     },
     "execution_count": 43,
     "metadata": {},
     "output_type": "execute_result"
    }
   ],
   "source": [
    "xnp"
   ]
  },
  {
   "cell_type": "code",
   "execution_count": 45,
   "id": "c0ffba24-d4db-41cf-a767-e4a8376af380",
   "metadata": {},
   "outputs": [
    {
     "data": {
      "text/plain": [
       "array([[20, 30],\n",
       "       [50, 60]])"
      ]
     },
     "execution_count": 45,
     "metadata": {},
     "output_type": "execute_result"
    }
   ],
   "source": [
    "xnp[0:2, 1:3]"
   ]
  },
  {
   "cell_type": "markdown",
   "id": "fb90c26f-90da-422c-a81e-03d028b4be5e",
   "metadata": {},
   "source": [
    "in above example the first argument in slcing is for rows extraction & second argment is for column extraction....this approch cant use in normal arrays "
   ]
  },
  {
   "cell_type": "code",
   "execution_count": 48,
   "id": "0294a3b8-028c-4bf7-aedf-01c102a12844",
   "metadata": {},
   "outputs": [
    {
     "data": {
      "text/plain": [
       "array([10, 20, 30])"
      ]
     },
     "execution_count": 48,
     "metadata": {},
     "output_type": "execute_result"
    }
   ],
   "source": [
    "xnp[0]"
   ]
  },
  {
   "cell_type": "markdown",
   "id": "d8a52b87-f382-4a06-b23f-e7e0b8b8db4c",
   "metadata": {},
   "source": [
    "if i want specific colum from specific row --->"
   ]
  },
  {
   "cell_type": "code",
   "execution_count": 51,
   "id": "f27708c6-30b5-44f5-8391-6272b8d23c5d",
   "metadata": {},
   "outputs": [
    {
     "data": {
      "text/plain": [
       "array([50, 60])"
      ]
     },
     "execution_count": 51,
     "metadata": {},
     "output_type": "execute_result"
    }
   ],
   "source": [
    "xnp[1,1:3]"
   ]
  },
  {
   "cell_type": "markdown",
   "id": "3065c6a2-2598-4ac0-a773-9693198f07c4",
   "metadata": {},
   "source": [
    "## Logical Indexing "
   ]
  },
  {
   "cell_type": "code",
   "execution_count": 55,
   "id": "a659ac32-4101-4ac5-8f61-72a0d1afac27",
   "metadata": {},
   "outputs": [
    {
     "data": {
      "text/plain": [
       "array([[10, 20, 30],\n",
       "       [40, 50, 60],\n",
       "       [70, 80, 90]])"
      ]
     },
     "execution_count": 55,
     "metadata": {},
     "output_type": "execute_result"
    }
   ],
   "source": [
    "xnp"
   ]
  },
  {
   "cell_type": "code",
   "execution_count": 63,
   "id": "b05be48d-fee7-4242-ad3b-3beed704a067",
   "metadata": {},
   "outputs": [
    {
     "data": {
      "text/plain": [
       "array([[False, False, False],\n",
       "       [False, False,  True],\n",
       "       [ True,  True,  True]])"
      ]
     },
     "execution_count": 63,
     "metadata": {},
     "output_type": "execute_result"
    }
   ],
   "source": [
    "xnp>50"
   ]
  },
  {
   "cell_type": "markdown",
   "id": "5aa4a15e-b71f-4905-99d4-523481c7fe63",
   "metadata": {},
   "source": [
    "if want element which are greater than 50"
   ]
  },
  {
   "cell_type": "code",
   "execution_count": 66,
   "id": "95bb1251-a148-482f-b389-abbda3d64717",
   "metadata": {},
   "outputs": [
    {
     "data": {
      "text/plain": [
       "array([60, 70, 80, 90])"
      ]
     },
     "execution_count": 66,
     "metadata": {},
     "output_type": "execute_result"
    }
   ],
   "source": [
    "xnp[xnp>50]"
   ]
  },
  {
   "cell_type": "code",
   "execution_count": 68,
   "id": "78cb16b7-de0f-4a26-8548-4c432f34c131",
   "metadata": {},
   "outputs": [
    {
     "data": {
      "text/plain": [
       "array([30, 60, 90])"
      ]
     },
     "execution_count": 68,
     "metadata": {},
     "output_type": "execute_result"
    }
   ],
   "source": [
    "xnp[: , 2]"
   ]
  },
  {
   "cell_type": "code",
   "execution_count": 75,
   "id": "ea1e5a1d-fea6-47cf-937e-561c2da37f36",
   "metadata": {},
   "outputs": [
    {
     "data": {
      "text/plain": [
       "array([False,  True,  True])"
      ]
     },
     "execution_count": 75,
     "metadata": {},
     "output_type": "execute_result"
    }
   ],
   "source": [
    "xnp[:, 2]> 50"
   ]
  },
  {
   "cell_type": "markdown",
   "id": "11376827-4e53-4cb2-b112-355e9117dfc9",
   "metadata": {},
   "source": [
    "."
   ]
  },
  {
   "cell_type": "markdown",
   "id": "b00ee6e4-cb63-4677-845a-b8eebe5889cb",
   "metadata": {},
   "source": [
    "."
   ]
  },
  {
   "cell_type": "markdown",
   "id": "93acbb35-8fd4-4d0b-95aa-3b5b4022849f",
   "metadata": {},
   "source": [
    "\n",
    "\n",
    "# Functions in NumPy"
   ]
  },
  {
   "cell_type": "code",
   "execution_count": null,
   "id": "0122fe05-2263-48c7-80d8-f75db2a4bfbe",
   "metadata": {},
   "outputs": [],
   "source": [
    "import numpy as np "
   ]
  },
  {
   "cell_type": "markdown",
   "id": "0a7c8abe-3b64-450a-8806-c9723b35f132",
   "metadata": {},
   "source": [
    "### create a array"
   ]
  },
  {
   "cell_type": "markdown",
   "id": "3368c44d-de96-4faf-afc7-bfe446bb97e2",
   "metadata": {},
   "source": [
    "...arange function creates an numpy array with specific start & end element with indexing"
   ]
  },
  {
   "cell_type": "code",
   "execution_count": 93,
   "id": "e6797712-b2a8-4295-8d9b-22dbee9decb5",
   "metadata": {},
   "outputs": [
    {
     "data": {
      "text/plain": [
       "array([0, 1, 2, 3, 4])"
      ]
     },
     "execution_count": 93,
     "metadata": {},
     "output_type": "execute_result"
    }
   ],
   "source": [
    "np.arange(5)"
   ]
  },
  {
   "cell_type": "code",
   "execution_count": 95,
   "id": "cebef6ab-782d-4944-b3f6-b54e65398bc8",
   "metadata": {},
   "outputs": [
    {
     "data": {
      "text/plain": [
       "array([4, 5, 6, 7])"
      ]
     },
     "execution_count": 95,
     "metadata": {},
     "output_type": "execute_result"
    }
   ],
   "source": [
    "np.arange(4,8)"
   ]
  },
  {
   "cell_type": "code",
   "execution_count": 97,
   "id": "6e31ecda-ad04-4cab-83db-349674d71e52",
   "metadata": {},
   "outputs": [
    {
     "data": {
      "text/plain": [
       "array([1, 3, 5, 7, 9])"
      ]
     },
     "execution_count": 97,
     "metadata": {},
     "output_type": "execute_result"
    }
   ],
   "source": [
    "np.arange(1 ,10,2)"
   ]
  },
  {
   "cell_type": "markdown",
   "id": "24a191a2-7cce-485a-8332-df315c332439",
   "metadata": {},
   "source": [
    "**numpy.linspace()** is a function within the NumPy library in Python used to generate an array of evenly spaced numbers over a specified interval.\n",
    "Evenly Spaced Values: It creates a sequence of numbers where the difference between consecutive values is constant (linear spacing)."
   ]
  },
  {
   "cell_type": "code",
   "execution_count": 101,
   "id": "1e975afd-b62a-44d6-8bb1-faac4b5f2cd7",
   "metadata": {},
   "outputs": [
    {
     "data": {
      "text/plain": [
       "array([ 1.        ,  1.09090909,  1.18181818,  1.27272727,  1.36363636,\n",
       "        1.45454545,  1.54545455,  1.63636364,  1.72727273,  1.81818182,\n",
       "        1.90909091,  2.        ,  2.09090909,  2.18181818,  2.27272727,\n",
       "        2.36363636,  2.45454545,  2.54545455,  2.63636364,  2.72727273,\n",
       "        2.81818182,  2.90909091,  3.        ,  3.09090909,  3.18181818,\n",
       "        3.27272727,  3.36363636,  3.45454545,  3.54545455,  3.63636364,\n",
       "        3.72727273,  3.81818182,  3.90909091,  4.        ,  4.09090909,\n",
       "        4.18181818,  4.27272727,  4.36363636,  4.45454545,  4.54545455,\n",
       "        4.63636364,  4.72727273,  4.81818182,  4.90909091,  5.        ,\n",
       "        5.09090909,  5.18181818,  5.27272727,  5.36363636,  5.45454545,\n",
       "        5.54545455,  5.63636364,  5.72727273,  5.81818182,  5.90909091,\n",
       "        6.        ,  6.09090909,  6.18181818,  6.27272727,  6.36363636,\n",
       "        6.45454545,  6.54545455,  6.63636364,  6.72727273,  6.81818182,\n",
       "        6.90909091,  7.        ,  7.09090909,  7.18181818,  7.27272727,\n",
       "        7.36363636,  7.45454545,  7.54545455,  7.63636364,  7.72727273,\n",
       "        7.81818182,  7.90909091,  8.        ,  8.09090909,  8.18181818,\n",
       "        8.27272727,  8.36363636,  8.45454545,  8.54545455,  8.63636364,\n",
       "        8.72727273,  8.81818182,  8.90909091,  9.        ,  9.09090909,\n",
       "        9.18181818,  9.27272727,  9.36363636,  9.45454545,  9.54545455,\n",
       "        9.63636364,  9.72727273,  9.81818182,  9.90909091, 10.        ])"
      ]
     },
     "execution_count": 101,
     "metadata": {},
     "output_type": "execute_result"
    }
   ],
   "source": [
    "np.linspace(1,10,100)"
   ]
  },
  {
   "cell_type": "markdown",
   "id": "c80b8a0b-8c16-4187-9dfd-94701d1a91b9",
   "metadata": {},
   "source": [
    "so **linspace** fucnction generates 100 numbers between 1 to 10 where in each value there is constant diffrence\n",
    ".\n",
    ".\n",
    "."
   ]
  },
  {
   "cell_type": "markdown",
   "id": "7df118a6-b9f0-477e-a25f-f04b52589fd7",
   "metadata": {},
   "source": [
    "."
   ]
  },
  {
   "cell_type": "markdown",
   "id": "990ee263-0508-4b50-a643-eeac894c6bc3",
   "metadata": {},
   "source": [
    "The **numpy.logspace()** function in Python's NumPy library generates an array of numbers that are evenly spaced on a logarithmic scale. This function is particularly useful when working with data that spans several orders of magnitude or when creating scales for logarithmic plots."
   ]
  },
  {
   "cell_type": "code",
   "execution_count": 104,
   "id": "c5665bf7-dfda-4fd5-9e61-9f0f42078423",
   "metadata": {},
   "outputs": [
    {
     "data": {
      "text/plain": [
       "array([1.00000000e+00, 3.59381366e+00, 1.29154967e+01, 4.64158883e+01,\n",
       "       1.66810054e+02, 5.99484250e+02, 2.15443469e+03, 7.74263683e+03,\n",
       "       2.78255940e+04, 1.00000000e+05])"
      ]
     },
     "execution_count": 104,
     "metadata": {},
     "output_type": "execute_result"
    }
   ],
   "source": [
    "np.logspace(0,5,10)"
   ]
  },
  {
   "cell_type": "markdown",
   "id": "9753f8bc-cd64-4c0c-af79-55ac7565facb",
   "metadata": {},
   "source": [
    "## Reshaping an ARRAY"
   ]
  },
  {
   "cell_type": "code",
   "execution_count": 121,
   "id": "990f87e0-6b39-43ce-966f-626d9987be8a",
   "metadata": {},
   "outputs": [
    {
     "data": {
      "text/plain": [
       "array([ 1,  2,  3,  4,  5,  6,  7,  8,  9, 10, 11, 12])"
      ]
     },
     "execution_count": 121,
     "metadata": {},
     "output_type": "execute_result"
    }
   ],
   "source": [
    "x=np.arange(1,13)\n",
    "x"
   ]
  },
  {
   "cell_type": "code",
   "execution_count": 123,
   "id": "b1d7ee85-1514-4a4c-92fc-0e8747fa9e5b",
   "metadata": {},
   "outputs": [
    {
     "data": {
      "text/plain": [
       "array([[ 1,  2,  3],\n",
       "       [ 4,  5,  6],\n",
       "       [ 7,  8,  9],\n",
       "       [10, 11, 12]])"
      ]
     },
     "execution_count": 123,
     "metadata": {},
     "output_type": "execute_result"
    }
   ],
   "source": [
    "x.reshape(4,3)"
   ]
  },
  {
   "cell_type": "markdown",
   "id": "e87d224b-a26c-4503-aa4d-c69374a2d419",
   "metadata": {},
   "source": [
    "## Get the size and shape"
   ]
  },
  {
   "cell_type": "code",
   "execution_count": 126,
   "id": "b833f528-4afe-46a6-8eb0-3488d8357a4d",
   "metadata": {},
   "outputs": [
    {
     "data": {
      "text/plain": [
       "array([ 1,  2,  3,  4,  5,  6,  7,  8,  9, 10, 11, 12])"
      ]
     },
     "execution_count": 126,
     "metadata": {},
     "output_type": "execute_result"
    }
   ],
   "source": [
    "x"
   ]
  },
  {
   "cell_type": "code",
   "execution_count": 128,
   "id": "1a552330-44c0-4c3a-a003-04fd413f88c4",
   "metadata": {},
   "outputs": [
    {
     "data": {
      "text/plain": [
       "12"
      ]
     },
     "execution_count": 128,
     "metadata": {},
     "output_type": "execute_result"
    }
   ],
   "source": [
    "x.size"
   ]
  },
  {
   "cell_type": "code",
   "execution_count": 130,
   "id": "089506fa-4679-4e9d-ad32-0ab39e38c1b1",
   "metadata": {},
   "outputs": [
    {
     "data": {
      "text/plain": [
       "(12,)"
      ]
     },
     "execution_count": 130,
     "metadata": {},
     "output_type": "execute_result"
    }
   ],
   "source": [
    "x.shape"
   ]
  },
  {
   "cell_type": "code",
   "execution_count": 136,
   "id": "63341940-524e-4c5c-97a8-adbfeef15ac2",
   "metadata": {},
   "outputs": [
    {
     "data": {
      "text/plain": [
       "array([[ 1,  2,  3],\n",
       "       [ 4,  5,  6],\n",
       "       [ 7,  8,  9],\n",
       "       [10, 11, 12]])"
      ]
     },
     "execution_count": 136,
     "metadata": {},
     "output_type": "execute_result"
    }
   ],
   "source": [
    "y=x.reshape(4,3)\n",
    "y"
   ]
  },
  {
   "cell_type": "code",
   "execution_count": 138,
   "id": "8f5e0a6e-78ba-4429-ab35-4f6043792c57",
   "metadata": {},
   "outputs": [
    {
     "data": {
      "text/plain": [
       "(4, 3)"
      ]
     },
     "execution_count": 138,
     "metadata": {},
     "output_type": "execute_result"
    }
   ],
   "source": [
    "y.shape"
   ]
  },
  {
   "cell_type": "markdown",
   "id": "42f51567-28e0-4659-ab28-9b02a3bd8068",
   "metadata": {},
   "source": [
    "## Check truth value of an ARRay"
   ]
  },
  {
   "cell_type": "code",
   "execution_count": 141,
   "id": "75a498bf-a890-4da9-bfa5-e3de77eff148",
   "metadata": {},
   "outputs": [
    {
     "data": {
      "text/plain": [
       "array([ 1,  2,  3,  4,  5,  6,  7,  8,  9, 10, 11, 12])"
      ]
     },
     "execution_count": 141,
     "metadata": {},
     "output_type": "execute_result"
    }
   ],
   "source": [
    "x"
   ]
  },
  {
   "cell_type": "code",
   "execution_count": 143,
   "id": "23bafd2f-4dad-4188-89f6-d0366ec70f9a",
   "metadata": {},
   "outputs": [
    {
     "data": {
      "text/plain": [
       "True"
      ]
     },
     "execution_count": 143,
     "metadata": {},
     "output_type": "execute_result"
    }
   ],
   "source": [
    "x.any()"
   ]
  },
  {
   "cell_type": "code",
   "execution_count": 145,
   "id": "93adf254-ebee-4e4d-8121-b70c4d6959ad",
   "metadata": {},
   "outputs": [
    {
     "data": {
      "text/plain": [
       "True"
      ]
     },
     "execution_count": 145,
     "metadata": {},
     "output_type": "execute_result"
    }
   ],
   "source": [
    "x.all()"
   ]
  },
  {
   "cell_type": "markdown",
   "id": "916b37c1-7017-4e80-bd58-8f5321526e7e",
   "metadata": {},
   "source": [
    "## Transpose\n"
   ]
  },
  {
   "cell_type": "code",
   "execution_count": 148,
   "id": "614017d2-034f-4773-af84-441ed9e5d1a8",
   "metadata": {},
   "outputs": [
    {
     "data": {
      "text/plain": [
       "array([[ 1,  2,  3],\n",
       "       [ 4,  5,  6],\n",
       "       [ 7,  8,  9],\n",
       "       [10, 11, 12]])"
      ]
     },
     "execution_count": 148,
     "metadata": {},
     "output_type": "execute_result"
    }
   ],
   "source": [
    "x.reshape(4,3)\n"
   ]
  },
  {
   "cell_type": "code",
   "execution_count": 150,
   "id": "1987be57-f5e8-440b-80e9-e947db5ed49c",
   "metadata": {},
   "outputs": [
    {
     "data": {
      "text/plain": [
       "array([[ 1,  4,  7, 10],\n",
       "       [ 2,  5,  8, 11],\n",
       "       [ 3,  6,  9, 12]])"
      ]
     },
     "execution_count": 150,
     "metadata": {},
     "output_type": "execute_result"
    }
   ],
   "source": [
    "x.reshape(4,3).T"
   ]
  },
  {
   "cell_type": "markdown",
   "id": "c50c2586-8eb7-4ae6-b888-75b20f158aa7",
   "metadata": {},
   "source": [
    "## MATHS"
   ]
  },
  {
   "cell_type": "code",
   "execution_count": 156,
   "id": "901b4f8b-bff8-4807-92c6-7b5b4ebd0e70",
   "metadata": {},
   "outputs": [
    {
     "data": {
      "text/plain": [
       "array([[ 1,  2,  3],\n",
       "       [ 4,  5,  6],\n",
       "       [ 7,  8,  9],\n",
       "       [10, 11, 12]])"
      ]
     },
     "execution_count": 156,
     "metadata": {},
     "output_type": "execute_result"
    }
   ],
   "source": [
    "y=x.reshape(4,3)\n",
    "y"
   ]
  },
  {
   "cell_type": "code",
   "execution_count": 158,
   "id": "9780722d-2f45-4299-af1a-d37030306201",
   "metadata": {},
   "outputs": [
    {
     "data": {
      "text/plain": [
       "array([[ 6,  7,  8],\n",
       "       [ 9, 10, 11],\n",
       "       [12, 13, 14],\n",
       "       [15, 16, 17]])"
      ]
     },
     "execution_count": 158,
     "metadata": {},
     "output_type": "execute_result"
    }
   ],
   "source": [
    "y+5"
   ]
  },
  {
   "cell_type": "code",
   "execution_count": 168,
   "id": "78a8da0b-52ff-47d0-92fa-ef69eb568bab",
   "metadata": {},
   "outputs": [
    {
     "data": {
      "text/plain": [
       "array([[0],\n",
       "       [1],\n",
       "       [2],\n",
       "       [3]])"
      ]
     },
     "execution_count": 168,
     "metadata": {},
     "output_type": "execute_result"
    }
   ],
   "source": [
    "z= np.arange(4).reshape(4,1)\n",
    "z"
   ]
  },
  {
   "cell_type": "code",
   "execution_count": 172,
   "id": "b9a09938-5165-4315-adaa-babf2b79eb40",
   "metadata": {},
   "outputs": [
    {
     "data": {
      "text/plain": [
       "array([[ 1,  2,  3],\n",
       "       [ 4,  5,  6],\n",
       "       [ 7,  8,  9],\n",
       "       [10, 11, 12]])"
      ]
     },
     "execution_count": 172,
     "metadata": {},
     "output_type": "execute_result"
    }
   ],
   "source": [
    "y"
   ]
  },
  {
   "cell_type": "code",
   "execution_count": 174,
   "id": "bcb72607-48d9-43d3-8f1b-30af31747056",
   "metadata": {},
   "outputs": [
    {
     "data": {
      "text/plain": [
       "array([[ 1,  2,  3],\n",
       "       [ 5,  6,  7],\n",
       "       [ 9, 10, 11],\n",
       "       [13, 14, 15]])"
      ]
     },
     "execution_count": 174,
     "metadata": {},
     "output_type": "execute_result"
    }
   ],
   "source": [
    "y+z"
   ]
  },
  {
   "cell_type": "markdown",
   "id": "27df5cfb-4182-4222-9029-c94288fb9970",
   "metadata": {},
   "source": [
    "## Statistical Summary"
   ]
  },
  {
   "cell_type": "code",
   "execution_count": 177,
   "id": "0f3ea57a-088d-4527-8680-075d9bcfa0fe",
   "metadata": {},
   "outputs": [
    {
     "data": {
      "text/plain": [
       "array([ 1,  2,  3,  4,  5,  6,  7,  8,  9, 10, 11, 12])"
      ]
     },
     "execution_count": 177,
     "metadata": {},
     "output_type": "execute_result"
    }
   ],
   "source": [
    "x"
   ]
  },
  {
   "cell_type": "code",
   "execution_count": 179,
   "id": "4b329c1e-7305-46e6-abaa-6f6fbc060e0a",
   "metadata": {},
   "outputs": [
    {
     "data": {
      "text/plain": [
       "78"
      ]
     },
     "execution_count": 179,
     "metadata": {},
     "output_type": "execute_result"
    }
   ],
   "source": [
    "x.sum()"
   ]
  },
  {
   "cell_type": "code",
   "execution_count": 181,
   "id": "ee725e24-656b-4af4-85b3-ad1aeecd10b9",
   "metadata": {},
   "outputs": [
    {
     "data": {
      "text/plain": [
       "6.5"
      ]
     },
     "execution_count": 181,
     "metadata": {},
     "output_type": "execute_result"
    }
   ],
   "source": [
    "x.mean()"
   ]
  },
  {
   "cell_type": "code",
   "execution_count": 183,
   "id": "53179e7f-e71f-4a24-a869-f01d90ef27b2",
   "metadata": {},
   "outputs": [
    {
     "data": {
      "text/plain": [
       "12"
      ]
     },
     "execution_count": 183,
     "metadata": {},
     "output_type": "execute_result"
    }
   ],
   "source": [
    "x.max()"
   ]
  },
  {
   "cell_type": "code",
   "execution_count": 185,
   "id": "774b27c3-fce0-42e7-a894-d119cbd5c56f",
   "metadata": {},
   "outputs": [
    {
     "data": {
      "text/plain": [
       "1"
      ]
     },
     "execution_count": 185,
     "metadata": {},
     "output_type": "execute_result"
    }
   ],
   "source": [
    "x.min()"
   ]
  },
  {
   "cell_type": "markdown",
   "id": "c7ae9679-563c-4365-bba2-4814c93011d3",
   "metadata": {},
   "source": [
    "standard deviation : std"
   ]
  },
  {
   "cell_type": "code",
   "execution_count": 188,
   "id": "2ca91c37-1da0-4217-8eba-174a26563417",
   "metadata": {},
   "outputs": [
    {
     "data": {
      "text/plain": [
       "3.452052529534663"
      ]
     },
     "execution_count": 188,
     "metadata": {},
     "output_type": "execute_result"
    }
   ],
   "source": [
    "x.std()"
   ]
  },
  {
   "cell_type": "markdown",
   "id": "4fd10748-1995-4b64-8ae8-22097d0c0fd1",
   "metadata": {},
   "source": [
    "product : prod()"
   ]
  },
  {
   "cell_type": "code",
   "execution_count": 191,
   "id": "38991b5b-0d7f-41ab-995f-9a46eb883be1",
   "metadata": {},
   "outputs": [
    {
     "data": {
      "text/plain": [
       "479001600"
      ]
     },
     "execution_count": 191,
     "metadata": {},
     "output_type": "execute_result"
    }
   ],
   "source": [
    "x.prod()"
   ]
  },
  {
   "cell_type": "code",
   "execution_count": 193,
   "id": "b6064245-1af6-4c83-8c1e-b63b2a9921d5",
   "metadata": {},
   "outputs": [],
   "source": [
    "import os"
   ]
  },
  {
   "cell_type": "code",
   "execution_count": 195,
   "id": "4930cb01-37f5-4b90-a871-0527f2f79bba",
   "metadata": {},
   "outputs": [
    {
     "name": "stdout",
     "output_type": "stream",
     "text": [
      "C:\\Users\\yashraj\n"
     ]
    }
   ],
   "source": [
    "print(os.getcwd())"
   ]
  },
  {
   "cell_type": "markdown",
   "id": "3b985bf7-f827-4b55-8e34-e9365aaa3426",
   "metadata": {},
   "source": [
    "# random numbers and distribution in NUMPY"
   ]
  },
  {
   "cell_type": "code",
   "execution_count": 6,
   "id": "2fa3b48a-5274-401d-98b6-1e458e874f53",
   "metadata": {},
   "outputs": [],
   "source": [
    "import numpy as np\n",
    "import matplotlib.pyplot as plt\n",
    "%matplotlib inline"
   ]
  },
  {
   "cell_type": "code",
   "execution_count": 8,
   "id": "c727a9ed-2f6e-4f2d-9ad7-9b706dd8516e",
   "metadata": {},
   "outputs": [],
   "source": [
    "np.random.seed(123)"
   ]
  },
  {
   "cell_type": "code",
   "execution_count": 10,
   "id": "5780c65a-7a47-4455-892c-46f7db5e2d6b",
   "metadata": {},
   "outputs": [
    {
     "data": {
      "text/plain": [
       "array([0.69646919, 0.28613933, 0.22685145, 0.55131477, 0.71946897])"
      ]
     },
     "execution_count": 10,
     "metadata": {},
     "output_type": "execute_result"
    }
   ],
   "source": [
    "np.random.rand(5)"
   ]
  },
  {
   "cell_type": "code",
   "execution_count": null,
   "id": "f73f4b0c-41bb-46ba-a08b-c63395991563",
   "metadata": {},
   "outputs": [],
   "source": []
  }
 ],
 "metadata": {
  "kernelspec": {
   "display_name": "Python 3 (ipykernel)",
   "language": "python",
   "name": "python3"
  },
  "language_info": {
   "codemirror_mode": {
    "name": "ipython",
    "version": 3
   },
   "file_extension": ".py",
   "mimetype": "text/x-python",
   "name": "python",
   "nbconvert_exporter": "python",
   "pygments_lexer": "ipython3",
   "version": "3.12.4"
  }
 },
 "nbformat": 4,
 "nbformat_minor": 5
}
