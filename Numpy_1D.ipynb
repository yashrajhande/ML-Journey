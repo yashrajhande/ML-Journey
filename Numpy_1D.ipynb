{
 "cells": [
  {
   "cell_type": "markdown",
   "id": "277f66d2-433d-4fd2-81ab-0eb81c508425",
   "metadata": {},
   "source": [
    "# 1D Arryas with Numpy"
   ]
  },
  {
   "cell_type": "code",
   "execution_count": 23,
   "id": "305585f6-8e14-4daf-8d6f-2e89a4adb46d",
   "metadata": {},
   "outputs": [],
   "source": [
    "import numpy as np"
   ]
  },
  {
   "cell_type": "code",
   "execution_count": 25,
   "id": "fa21dcea-ece8-42cc-99de-44ec25cd85ce",
   "metadata": {},
   "outputs": [],
   "source": [
    "x=[100, 200, 300,400]"
   ]
  },
  {
   "cell_type": "code",
   "execution_count": 27,
   "id": "59a2deee-fbcf-4654-bf94-bb441e563036",
   "metadata": {},
   "outputs": [
    {
     "data": {
      "text/plain": [
       "[100, 200, 300, 400]"
      ]
     },
     "execution_count": 27,
     "metadata": {},
     "output_type": "execute_result"
    }
   ],
   "source": [
    "x"
   ]
  },
  {
   "cell_type": "code",
   "execution_count": 33,
   "id": "6ab06f7b-3ed3-472e-9819-7712e88df92f",
   "metadata": {},
   "outputs": [
    {
     "data": {
      "text/plain": [
       "array([100, 200, 300, 400])"
      ]
     },
     "execution_count": 33,
     "metadata": {},
     "output_type": "execute_result"
    }
   ],
   "source": [
    "y=np.array(x)\n",
    "y"
   ]
  },
  {
   "cell_type": "code",
   "execution_count": 35,
   "id": "0c2d3c8e-ffb2-4b07-b0c6-d7f13f07b1ab",
   "metadata": {},
   "outputs": [
    {
     "data": {
      "text/plain": [
       "list"
      ]
     },
     "execution_count": 35,
     "metadata": {},
     "output_type": "execute_result"
    }
   ],
   "source": [
    "type(x)"
   ]
  },
  {
   "cell_type": "code",
   "execution_count": 37,
   "id": "4050be89-a4bb-43b4-b4b5-1fb21bec51df",
   "metadata": {},
   "outputs": [
    {
     "data": {
      "text/plain": [
       "numpy.ndarray"
      ]
     },
     "execution_count": 37,
     "metadata": {},
     "output_type": "execute_result"
    }
   ],
   "source": [
    "type(y)"
   ]
  },
  {
   "cell_type": "markdown",
   "id": "33269d69-0ef9-435f-a34a-2a00b9f34180",
   "metadata": {},
   "source": [
    "Normal array + : concatenation"
   ]
  },
  {
   "cell_type": "code",
   "execution_count": 39,
   "id": "447d41c5-2819-4ca1-a16d-2fbc6a44aba8",
   "metadata": {},
   "outputs": [
    {
     "data": {
      "text/plain": [
       "[100, 200, 300, 400, 100, 200, 300, 400]"
      ]
     },
     "execution_count": 39,
     "metadata": {},
     "output_type": "execute_result"
    }
   ],
   "source": [
    "x+x"
   ]
  },
  {
   "cell_type": "markdown",
   "id": "ae5da8a3-7073-4f69-8bbf-5199dac1940c",
   "metadata": {},
   "source": [
    "numpy array + : actual addition "
   ]
  },
  {
   "cell_type": "code",
   "execution_count": 41,
   "id": "6bbb1f87-cbd3-4139-a754-8fc2bfd068f1",
   "metadata": {},
   "outputs": [
    {
     "data": {
      "text/plain": [
       "array([200, 400, 600, 800])"
      ]
     },
     "execution_count": 41,
     "metadata": {},
     "output_type": "execute_result"
    }
   ],
   "source": [
    "y+y\n"
   ]
  },
  {
   "cell_type": "code",
   "execution_count": 43,
   "id": "e72d1830-e040-49ac-b1fc-423e4b8cf987",
   "metadata": {},
   "outputs": [
    {
     "data": {
      "text/plain": [
       "array([ 10000,  40000,  90000, 160000])"
      ]
     },
     "execution_count": 43,
     "metadata": {},
     "output_type": "execute_result"
    }
   ],
   "source": [
    "y*y\n"
   ]
  },
  {
   "cell_type": "markdown",
   "id": "6f23aa45-e14e-4386-96d8-734055944f7d",
   "metadata": {},
   "source": [
    "## Subseting & slicing "
   ]
  },
  {
   "cell_type": "code",
   "execution_count": 50,
   "id": "2ef44b28-28b7-49dd-bb8f-1c26a89f24cf",
   "metadata": {},
   "outputs": [
    {
     "data": {
      "text/plain": [
       "array([100, 200, 300, 400])"
      ]
     },
     "execution_count": 50,
     "metadata": {},
     "output_type": "execute_result"
    }
   ],
   "source": [
    "y"
   ]
  },
  {
   "cell_type": "code",
   "execution_count": 58,
   "id": "73dfe6f5-01ba-41cc-b443-7b51d5b7ea58",
   "metadata": {},
   "outputs": [
    {
     "data": {
      "text/plain": [
       "100"
      ]
     },
     "execution_count": 58,
     "metadata": {},
     "output_type": "execute_result"
    }
   ],
   "source": [
    "y[0]"
   ]
  },
  {
   "cell_type": "code",
   "execution_count": 60,
   "id": "10d36730-d1e5-438b-a81c-2b15009c1de7",
   "metadata": {},
   "outputs": [
    {
     "data": {
      "text/plain": [
       "array([100, 200, 300])"
      ]
     },
     "execution_count": 60,
     "metadata": {},
     "output_type": "execute_result"
    }
   ],
   "source": [
    "y[:3]"
   ]
  },
  {
   "cell_type": "code",
   "execution_count": 62,
   "id": "a1455b2c-9d28-470d-aee5-c8c5db0c37e8",
   "metadata": {},
   "outputs": [
    {
     "data": {
      "text/plain": [
       "array([300])"
      ]
     },
     "execution_count": 62,
     "metadata": {},
     "output_type": "execute_result"
    }
   ],
   "source": [
    "y[2:3]"
   ]
  },
  {
   "cell_type": "code",
   "execution_count": 64,
   "id": "304a8608-ef0d-4c36-aed7-465e80303cae",
   "metadata": {},
   "outputs": [
    {
     "data": {
      "text/plain": [
       "array([100, 200, 300, 400])"
      ]
     },
     "execution_count": 64,
     "metadata": {},
     "output_type": "execute_result"
    }
   ],
   "source": [
    "y[::]"
   ]
  },
  {
   "cell_type": "code",
   "execution_count": 66,
   "id": "0ef7bdc8-7ca5-462e-8ea2-435f71ec39bf",
   "metadata": {},
   "outputs": [
    {
     "data": {
      "text/plain": [
       "array([100, 200, 300, 400])"
      ]
     },
     "execution_count": 66,
     "metadata": {},
     "output_type": "execute_result"
    }
   ],
   "source": [
    "y[0:]"
   ]
  },
  {
   "cell_type": "code",
   "execution_count": 70,
   "id": "9902d9fa-3a8d-467e-a6a1-fd5202825595",
   "metadata": {},
   "outputs": [
    {
     "data": {
      "text/plain": [
       "400"
      ]
     },
     "execution_count": 70,
     "metadata": {},
     "output_type": "execute_result"
    }
   ],
   "source": [
    "y[-1]   "
   ]
  },
  {
   "cell_type": "code",
   "execution_count": 74,
   "id": "b6fd083b-ce56-4317-993d-3394c5142297",
   "metadata": {},
   "outputs": [
    {
     "data": {
      "text/plain": [
       "array([200, 300])"
      ]
     },
     "execution_count": 74,
     "metadata": {},
     "output_type": "execute_result"
    }
   ],
   "source": [
    "y[-3:-1]"
   ]
  },
  {
   "cell_type": "markdown",
   "id": "0521754e-2e5c-4a54-98e7-b336a574feda",
   "metadata": {},
   "source": [
    "## Logical Indexing"
   ]
  },
  {
   "cell_type": "code",
   "execution_count": 86,
   "id": "b3f0b159-0976-458e-b8d1-392b832cde43",
   "metadata": {},
   "outputs": [
    {
     "data": {
      "text/plain": [
       "array([100, 200, 300, 400])"
      ]
     },
     "execution_count": 86,
     "metadata": {},
     "output_type": "execute_result"
    }
   ],
   "source": [
    "y"
   ]
  },
  {
   "cell_type": "code",
   "execution_count": 88,
   "id": "a6193b64-282b-48f2-964c-0a7b5f70414b",
   "metadata": {},
   "outputs": [
    {
     "data": {
      "text/plain": [
       "array([False, False,  True,  True])"
      ]
     },
     "execution_count": 88,
     "metadata": {},
     "output_type": "execute_result"
    }
   ],
   "source": [
    "y> 200"
   ]
  },
  {
   "cell_type": "code",
   "execution_count": 90,
   "id": "9cc362a3-6b0f-4ad6-9ada-8abc2dc172f2",
   "metadata": {},
   "outputs": [
    {
     "data": {
      "text/plain": [
       "array([False, False,  True, False])"
      ]
     },
     "execution_count": 90,
     "metadata": {},
     "output_type": "execute_result"
    }
   ],
   "source": [
    "y==300"
   ]
  },
  {
   "cell_type": "code",
   "execution_count": 92,
   "id": "d07940d7-23e3-41a8-8982-9b11d822c18c",
   "metadata": {},
   "outputs": [
    {
     "data": {
      "text/plain": [
       "array([ True, False,  True,  True])"
      ]
     },
     "execution_count": 92,
     "metadata": {},
     "output_type": "execute_result"
    }
   ],
   "source": [
    "y!=200"
   ]
  },
  {
   "cell_type": "code",
   "execution_count": 94,
   "id": "04d07ed7-4eec-4010-8a73-4bf34db78bf0",
   "metadata": {},
   "outputs": [
    {
     "data": {
      "text/plain": [
       "array([300, 400])"
      ]
     },
     "execution_count": 94,
     "metadata": {},
     "output_type": "execute_result"
    }
   ],
   "source": [
    "y[y>200]"
   ]
  },
  {
   "cell_type": "code",
   "execution_count": null,
   "id": "bf384d75-5f29-453f-aed2-1d541e627ead",
   "metadata": {},
   "outputs": [],
   "source": []
  },
  {
   "cell_type": "code",
   "execution_count": null,
   "id": "331cd2ef-2d67-4953-a012-f7991443aea2",
   "metadata": {},
   "outputs": [],
   "source": []
  },
  {
   "cell_type": "code",
   "execution_count": null,
   "id": "4db8d6cf-cd13-4ec3-b0e9-0a869f8254fe",
   "metadata": {},
   "outputs": [],
   "source": []
  },
  {
   "cell_type": "code",
   "execution_count": null,
   "id": "62707123-d41e-4bd9-88ad-e7f10946936b",
   "metadata": {},
   "outputs": [],
   "source": []
  },
  {
   "cell_type": "code",
   "execution_count": null,
   "id": "a13d5967-bf97-454e-9bf6-04aa03fcae08",
   "metadata": {},
   "outputs": [],
   "source": []
  }
 ],
 "metadata": {
  "kernelspec": {
   "display_name": "Python 3 (ipykernel)",
   "language": "python",
   "name": "python3"
  },
  "language_info": {
   "codemirror_mode": {
    "name": "ipython",
    "version": 3
   },
   "file_extension": ".py",
   "mimetype": "text/x-python",
   "name": "python",
   "nbconvert_exporter": "python",
   "pygments_lexer": "ipython3",
   "version": "3.12.4"
  }
 },
 "nbformat": 4,
 "nbformat_minor": 5
}
